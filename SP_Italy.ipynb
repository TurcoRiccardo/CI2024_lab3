{
 "cells": [
  {
   "cell_type": "code",
   "execution_count": 78,
   "metadata": {},
   "outputs": [],
   "source": [
    "from itertools import combinations\n",
    "import pandas as pd\n",
    "import numpy as np\n",
    "import geopy.distance\n",
    "import networkx as nx\n",
    "from icecream import ic\n",
    "from tqdm.auto import tqdm\n",
    "from matplotlib import pyplot as plt\n",
    "from itertools import accumulate\n",
    "from dataclasses import dataclass\n"
   ]
  },
  {
   "cell_type": "markdown",
   "metadata": {},
   "source": [
    "## Lab3 - Shortest-Path Italy"
   ]
  },
  {
   "cell_type": "code",
   "execution_count": null,
   "metadata": {},
   "outputs": [],
   "source": [
    "CITIES = pd.read_csv('cities/italy.csv', header=None, names=['name', 'lat', 'lon'])\n",
    "\n",
    "DIST_MATRIX = np.zeros((len(CITIES), len(CITIES)))\n",
    "for c1, c2 in combinations(CITIES.itertuples(), 2):\n",
    "    DIST_MATRIX[c1.Index, c2.Index] = DIST_MATRIX[c2.Index, c1.Index] = geopy.distance.geodesic(\n",
    "        (c1.lat, c1.lon), (c2.lat, c2.lon)\n",
    "    ).km\n",
    "\n",
    "def cost(sp):\n",
    "    tot_cost = 0\n",
    "    for c1, c2 in zip(sp, sp[1:]):\n",
    "        tot_cost += DIST_MATRIX[c1, c2]\n",
    "    return tot_cost"
   ]
  },
  {
   "cell_type": "markdown",
   "metadata": {},
   "source": [
    "## Simplified implementation\n",
    "\n",
    "For each city only the first 5 nearest city are connected, we want to connect city A with city B"
   ]
  },
  {
   "cell_type": "code",
   "execution_count": 80,
   "metadata": {},
   "outputs": [
    {
     "name": "stderr",
     "output_type": "stream",
     "text": [
      "ic| median: np.float64(367.0694334013403)\n"
     ]
    }
   ],
   "source": [
    "median = np.median(DIST_MATRIX.reshape(1, -1))\n",
    "ic(median)\n",
    "DIST_MATRIX[DIST_MATRIX > median] = np.inf"
   ]
  },
  {
   "cell_type": "markdown",
   "metadata": {},
   "source": [
    "Random solution, take one of the edge randomically"
   ]
  },
  {
   "cell_type": "code",
   "execution_count": null,
   "metadata": {},
   "outputs": [
    {
     "data": {
      "application/vnd.jupyter.widget-view+json": {
       "model_id": "10e1145478c54dc08d10f6761b77b6de",
       "version_major": 2,
       "version_minor": 0
      },
      "text/plain": [
       "  0%|          | 0/1000 [00:00<?, ?it/s]"
      ]
     },
     "metadata": {},
     "output_type": "display_data"
    },
    {
     "data": {
      "text/plain": [
       "'Valid solution: True, Number of steps: 25, Number of city crossed: 10, Total length 2390.67km'"
      ]
     },
     "execution_count": 108,
     "metadata": {},
     "output_type": "execute_result"
    }
   ],
   "source": [
    "visited = np.full(len(CITIES), False)\n",
    "#citta iniziale A\n",
    "A = np.random.randint(0, len(CITIES))\n",
    "#citta finale B\n",
    "B = np.random.randint(0, len(CITIES))\n",
    "while B == A:\n",
    "    B = np.random.randint(0, len(CITIES))\n",
    "sp = list()\n",
    "sp.append(int(A))\n",
    "visited[sp[len(sp)-1]] = True\n",
    "for steps in tqdm(range(1000)):\n",
    "    rand = np.random.randint(0, 5)\n",
    "    count = 0\n",
    "    for x in range(0, len(CITIES)):\n",
    "        if DIST_MATRIX[sp[len(sp)-1]][x] != np.inf:\n",
    "            if count == rand and visited[x] == False:\n",
    "                sp.append(int(x))\n",
    "                visited[x] = True\n",
    "                break\n",
    "            else:\n",
    "                count += 1\n",
    "    if sp[len(sp)-1] == B:\n",
    "        break\n",
    "f\"Valid solution: {sp[len(sp)-1] == B}, Number of steps: {steps+1}, Number of city crossed: {len(sp)}, Total length {cost(sp):.2f}km\""
   ]
  }
 ],
 "metadata": {
  "kernelspec": {
   "display_name": "CI2024",
   "language": "python",
   "name": "python3"
  },
  "language_info": {
   "codemirror_mode": {
    "name": "ipython",
    "version": 3
   },
   "file_extension": ".py",
   "mimetype": "text/x-python",
   "name": "python",
   "nbconvert_exporter": "python",
   "pygments_lexer": "ipython3",
   "version": "3.10.4"
  }
 },
 "nbformat": 4,
 "nbformat_minor": 2
}
