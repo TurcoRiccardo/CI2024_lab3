{
 "cells": [
  {
   "cell_type": "code",
   "execution_count": 7,
   "metadata": {},
   "outputs": [],
   "source": [
    "import numpy as np\n",
    "from collections import namedtuple\n",
    "from random import choice\n",
    "from tqdm.auto import tqdm\n",
    "from icecream import ic"
   ]
  },
  {
   "cell_type": "markdown",
   "metadata": {},
   "source": [
    "## n-puzzle"
   ]
  },
  {
   "cell_type": "code",
   "execution_count": 8,
   "metadata": {},
   "outputs": [],
   "source": [
    "PUZZLE_DIM = 3\n",
    "action = namedtuple('Action', ['pos1', 'pos2'])"
   ]
  },
  {
   "cell_type": "code",
   "execution_count": 9,
   "metadata": {},
   "outputs": [],
   "source": [
    "def available_actions(state: np.ndarray) -> list['Action']:\n",
    "    x, y = [int(_[0]) for _ in np.where(state == 0)]\n",
    "    actions = list()\n",
    "    if x > 0:\n",
    "        actions.append(action((x, y), (x - 1, y)))\n",
    "    if x < PUZZLE_DIM - 1:\n",
    "        actions.append(action((x, y), (x + 1, y)))\n",
    "    if y > 0:\n",
    "        actions.append(action((x, y), (x, y - 1)))\n",
    "    if y < PUZZLE_DIM - 1:\n",
    "        actions.append(action((x, y), (x, y + 1)))\n",
    "    return actions\n",
    "\n",
    "def do_action(state: np.ndarray, action: 'Action') -> np.ndarray:\n",
    "    new_state = state.copy()\n",
    "    new_state[action.pos1], new_state[action.pos2] = new_state[action.pos2], new_state[action.pos1]\n",
    "    return new_state\n",
    "\n",
    "def goal_test(state: np.ndarray) -> bool:\n",
    "    c = 1\n",
    "    for i in state:\n",
    "        for j in i:\n",
    "            if j != c:\n",
    "                return False\n",
    "            c += 1\n",
    "            if c == len(state)**2:\n",
    "                c = 0\n",
    "    return True\n",
    "\n",
    "def stateInList(state: np.ndarray, frontier: list[np.ndarray]) -> int:\n",
    "    for i, element in enumerate(frontier):\n",
    "        c = 0\n",
    "        for x in range(PUZZLE_DIM):\n",
    "            for y in range(PUZZLE_DIM):\n",
    "                if state[x][y] == element[x][y]:\n",
    "                    c += 1\n",
    "        if c == PUZZLE_DIM**2:\n",
    "            return i\n",
    "    return -1\n"
   ]
  },
  {
   "cell_type": "code",
   "execution_count": 10,
   "metadata": {},
   "outputs": [
    {
     "data": {
      "application/vnd.jupyter.widget-view+json": {
       "model_id": "07342c00f6444278b305757e83edd867",
       "version_major": 2,
       "version_minor": 0
      },
      "text/plain": [
       "Randomizing:   0%|          | 0/100000 [00:00<?, ?it/s]"
      ]
     },
     "metadata": {},
     "output_type": "display_data"
    },
    {
     "data": {
      "text/plain": [
       "array([[1, 5, 8],\n",
       "       [3, 6, 7],\n",
       "       [0, 4, 2]])"
      ]
     },
     "execution_count": 10,
     "metadata": {},
     "output_type": "execute_result"
    }
   ],
   "source": [
    "RANDOMIZE_STEPS = 100_000\n",
    "state = np.array([i for i in range(1, PUZZLE_DIM**2)] + [0]).reshape((PUZZLE_DIM, PUZZLE_DIM))\n",
    "for r in tqdm(range(RANDOMIZE_STEPS), desc='Randomizing'):\n",
    "    #scelgo randomicamente un azione da quelle possibili e la effettuo\n",
    "    state = do_action(state, choice(available_actions(state)))\n",
    "state"
   ]
  },
  {
   "cell_type": "markdown",
   "metadata": {},
   "source": [
    "## depth-first approach\n",
    "\n",
    "Memory consumption is high, we can't always find a solution"
   ]
  },
  {
   "cell_type": "code",
   "execution_count": 13,
   "metadata": {},
   "outputs": [
    {
     "data": {
      "application/vnd.jupyter.widget-view+json": {
       "model_id": "32caf63947794f15b80037f3da5bc906",
       "version_major": 2,
       "version_minor": 0
      },
      "text/plain": [
       "  0%|          | 0/2000 [00:00<?, ?it/s]"
      ]
     },
     "metadata": {},
     "output_type": "display_data"
    },
    {
     "name": "stderr",
     "output_type": "stream",
     "text": [
      "ic| goal_test(state): False\n",
      "    state: array([[5, 8, 1],\n",
      "                  [4, 3, 6],\n",
      "                  [2, 7, 0]])\n",
      "    efficiency: 0.9735\n",
      "    len(frontier): 1559\n",
      "    len(visited_state): 2000\n"
     ]
    }
   ],
   "source": [
    "frontier = list()\n",
    "visited_state = list()\n",
    "cost_list = list()\n",
    "cost = 0\n",
    "for step in tqdm(range(2000)):\n",
    "    visited_state.append(state)\n",
    "    if goal_test(state):\n",
    "        break\n",
    "    for a in available_actions(state):\n",
    "        new_state = do_action(state, a)\n",
    "        new_cost = cost + 1\n",
    "        if stateInList(new_state, visited_state) == -1 and stateInList(new_state, frontier) == -1:\n",
    "            frontier.append(new_state)\n",
    "            cost_list.append(new_cost)\n",
    "    state = frontier.pop()\n",
    "    cost = cost_list.pop()\n",
    "efficiency = cost / (step + 1)\n",
    "ic(goal_test(state), state, efficiency, len(frontier), len(visited_state))\n",
    "None"
   ]
  },
  {
   "cell_type": "markdown",
   "metadata": {},
   "source": [
    "## breadth-first approach\n",
    "\n",
    "Memory consumption is high, we can't always find a solution"
   ]
  },
  {
   "cell_type": "code",
   "execution_count": 14,
   "metadata": {},
   "outputs": [
    {
     "data": {
      "application/vnd.jupyter.widget-view+json": {
       "model_id": "a19f83440fc848e0bc752e2a3b2d7293",
       "version_major": 2,
       "version_minor": 0
      },
      "text/plain": [
       "  0%|          | 0/2000 [00:00<?, ?it/s]"
      ]
     },
     "metadata": {},
     "output_type": "display_data"
    },
    {
     "name": "stderr",
     "output_type": "stream",
     "text": [
      "ic| goal_test(state): False\n",
      "    state: array([[2, 4, 5],\n",
      "                  [0, 3, 8],\n",
      "                  [7, 6, 1]])\n",
      "    efficiency: 0.0065\n",
      "    len(frontier): 1148\n",
      "    len(visited_state): 2000\n"
     ]
    }
   ],
   "source": [
    "frontier = list()\n",
    "visited_state = list()\n",
    "cost_list = list()\n",
    "cost = 0\n",
    "for step in tqdm(range(2000)):\n",
    "    visited_state.append(state)\n",
    "    if goal_test(state):\n",
    "        break\n",
    "    for a in available_actions(state):\n",
    "        new_state = do_action(state, a)\n",
    "        new_cost = cost + 1\n",
    "        if stateInList(new_state, visited_state) == -1 and stateInList(new_state, frontier) == -1:\n",
    "            frontier.append(new_state)\n",
    "            cost_list.append(new_cost)\n",
    "    state = frontier.pop(0)\n",
    "    cost = cost_list.pop(0)\n",
    "efficiency = cost / (step + 1)\n",
    "ic(goal_test(state), state, efficiency, len(frontier), len(visited_state))\n",
    "None"
   ]
  },
  {
   "cell_type": "markdown",
   "metadata": {},
   "source": [
    "## A*"
   ]
  },
  {
   "cell_type": "code",
   "execution_count": null,
   "metadata": {},
   "outputs": [],
   "source": []
  }
 ],
 "metadata": {
  "kernelspec": {
   "display_name": "CI2024",
   "language": "python",
   "name": "python3"
  },
  "language_info": {
   "codemirror_mode": {
    "name": "ipython",
    "version": 3
   },
   "file_extension": ".py",
   "mimetype": "text/x-python",
   "name": "python",
   "nbconvert_exporter": "python",
   "pygments_lexer": "ipython3",
   "version": "3.10.4"
  }
 },
 "nbformat": 4,
 "nbformat_minor": 2
}
