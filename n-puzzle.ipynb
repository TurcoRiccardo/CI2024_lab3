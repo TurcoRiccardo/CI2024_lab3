{
 "cells": [
  {
   "cell_type": "code",
   "execution_count": 32,
   "metadata": {},
   "outputs": [],
   "source": [
    "import numpy as np\n",
    "from collections import namedtuple\n",
    "from random import choice\n",
    "from tqdm.auto import tqdm\n",
    "from icecream import ic\n",
    "from dataclasses import dataclass"
   ]
  },
  {
   "cell_type": "markdown",
   "metadata": {},
   "source": [
    "## n-puzzle"
   ]
  },
  {
   "cell_type": "code",
   "execution_count": 23,
   "metadata": {},
   "outputs": [],
   "source": [
    "PUZZLE_DIM = 3\n",
    "action = namedtuple('Action', ['pos1', 'pos2'])"
   ]
  },
  {
   "cell_type": "code",
   "execution_count": 24,
   "metadata": {},
   "outputs": [],
   "source": [
    "def available_actions(state: np.ndarray) -> list['Action']:\n",
    "    x, y = [int(_[0]) for _ in np.where(state == 0)]\n",
    "    actions = list()\n",
    "    if x > 0:\n",
    "        actions.append(action((x, y), (x - 1, y)))\n",
    "    if x < PUZZLE_DIM - 1:\n",
    "        actions.append(action((x, y), (x + 1, y)))\n",
    "    if y > 0:\n",
    "        actions.append(action((x, y), (x, y - 1)))\n",
    "    if y < PUZZLE_DIM - 1:\n",
    "        actions.append(action((x, y), (x, y + 1)))\n",
    "    return actions\n",
    "\n",
    "def do_action(state: np.ndarray, action: 'Action') -> np.ndarray:\n",
    "    new_state = state.copy()\n",
    "    new_state[action.pos1], new_state[action.pos2] = new_state[action.pos2], new_state[action.pos1]\n",
    "    return new_state\n",
    "\n",
    "def goal_test(state: np.ndarray) -> bool:\n",
    "    c = 1\n",
    "    for i in state:\n",
    "        for j in i:\n",
    "            if j != c:\n",
    "                return False\n",
    "            c += 1\n",
    "            if c == len(state)**2:\n",
    "                c = 0\n",
    "    return True\n",
    "\n",
    "def stateInList(state: np.ndarray, frontier: list[np.ndarray]) -> int:\n",
    "    for i, element in enumerate(frontier):\n",
    "        c = 0\n",
    "        for x in range(PUZZLE_DIM):\n",
    "            for y in range(PUZZLE_DIM):\n",
    "                if state[x][y] == element[x][y]:\n",
    "                    c += 1\n",
    "        if c == PUZZLE_DIM**2:\n",
    "            return i\n",
    "    return -1\n"
   ]
  },
  {
   "cell_type": "code",
   "execution_count": 25,
   "metadata": {},
   "outputs": [
    {
     "data": {
      "application/vnd.jupyter.widget-view+json": {
       "model_id": "1fce8f6ed7844caf9956ed072bdd1b01",
       "version_major": 2,
       "version_minor": 0
      },
      "text/plain": [
       "Randomizing:   0%|          | 0/100000 [00:00<?, ?it/s]"
      ]
     },
     "metadata": {},
     "output_type": "display_data"
    },
    {
     "data": {
      "text/plain": [
       "array([[8, 2, 4],\n",
       "       [1, 6, 3],\n",
       "       [5, 7, 0]])"
      ]
     },
     "execution_count": 25,
     "metadata": {},
     "output_type": "execute_result"
    }
   ],
   "source": [
    "RANDOMIZE_STEPS = 100_000\n",
    "initial_state = np.array([i for i in range(1, PUZZLE_DIM**2)] + [0]).reshape((PUZZLE_DIM, PUZZLE_DIM))\n",
    "for r in tqdm(range(RANDOMIZE_STEPS), desc='Randomizing'):\n",
    "    #scelgo randomicamente un azione da quelle possibili e la effettuo\n",
    "    initial_state = do_action(initial_state, choice(available_actions(initial_state)))\n",
    "initial_state"
   ]
  },
  {
   "cell_type": "markdown",
   "metadata": {},
   "source": [
    "## depth-first approach\n",
    "\n",
    "Memory consumption is high, we can't always find a solution if the number of iterations is too low"
   ]
  },
  {
   "cell_type": "code",
   "execution_count": 26,
   "metadata": {},
   "outputs": [
    {
     "data": {
      "application/vnd.jupyter.widget-view+json": {
       "model_id": "7849c15ed17a407587eabcb38fc8dd5f",
       "version_major": 2,
       "version_minor": 0
      },
      "text/plain": [
       "  0%|          | 0/5000 [00:00<?, ?it/s]"
      ]
     },
     "metadata": {},
     "output_type": "display_data"
    },
    {
     "name": "stderr",
     "output_type": "stream",
     "text": [
      "ic| goal_test(state): False\n",
      "    state: array([[7, 6, 8],\n",
      "                  [1, 0, 5],\n",
      "                  [3, 2, 4]])\n",
      "    efficiency: 0.9732\n",
      "    len(frontier): 3878\n",
      "    len(visited_state): 5000\n"
     ]
    }
   ],
   "source": [
    "frontier = list()\n",
    "visited_state = list()\n",
    "cost_list = list()\n",
    "cost = 0\n",
    "state = initial_state\n",
    "for step in tqdm(range(5000)):\n",
    "    visited_state.append(state)\n",
    "    if goal_test(state):\n",
    "        break\n",
    "    for a in available_actions(state):\n",
    "        new_state = do_action(state, a)\n",
    "        new_cost = cost + 1\n",
    "        if stateInList(new_state, visited_state) == -1 and stateInList(new_state, frontier) == -1:\n",
    "            frontier.append(new_state)\n",
    "            cost_list.append(new_cost)\n",
    "    state = frontier.pop()\n",
    "    cost = cost_list.pop()\n",
    "efficiency = cost / (step + 1)\n",
    "ic(goal_test(state), state, efficiency, len(frontier), len(visited_state))\n",
    "None"
   ]
  },
  {
   "cell_type": "markdown",
   "metadata": {},
   "source": [
    "## breadth-first approach\n",
    "\n",
    "Memory consumption is high, we can't always find a solution if the number of iterations is too low"
   ]
  },
  {
   "cell_type": "code",
   "execution_count": 27,
   "metadata": {},
   "outputs": [
    {
     "data": {
      "application/vnd.jupyter.widget-view+json": {
       "model_id": "63fdb5ba63d4446abd956be7e3002bdf",
       "version_major": 2,
       "version_minor": 0
      },
      "text/plain": [
       "  0%|          | 0/5000 [00:00<?, ?it/s]"
      ]
     },
     "metadata": {},
     "output_type": "display_data"
    },
    {
     "name": "stderr",
     "output_type": "stream",
     "text": [
      "ic| goal_test(state): False\n",
      "    state: array([[6, 2, 1],\n",
      "                  [8, 5, 0],\n",
      "                  [7, 3, 4]])\n",
      "    efficiency: 0.003\n",
      "    len(frontier): 2709\n",
      "    len(visited_state): 5000\n"
     ]
    }
   ],
   "source": [
    "frontier = list()\n",
    "visited_state = list()\n",
    "cost_list = list()\n",
    "cost = 0\n",
    "state = initial_state\n",
    "for step in tqdm(range(5000)):\n",
    "    visited_state.append(state)\n",
    "    if goal_test(state):\n",
    "        break\n",
    "    for a in available_actions(state):\n",
    "        new_state = do_action(state, a)\n",
    "        new_cost = cost + 1\n",
    "        if stateInList(new_state, visited_state) == -1 and stateInList(new_state, frontier) == -1:\n",
    "            frontier.append(new_state)\n",
    "            cost_list.append(new_cost)\n",
    "    state = frontier.pop(0)\n",
    "    cost = cost_list.pop(0)\n",
    "efficiency = cost / (step + 1)\n",
    "ic(goal_test(state), state, efficiency, len(frontier), len(visited_state))\n",
    "None"
   ]
  },
  {
   "cell_type": "markdown",
   "metadata": {},
   "source": [
    "## A*"
   ]
  },
  {
   "cell_type": "code",
   "execution_count": 61,
   "metadata": {},
   "outputs": [],
   "source": [
    "@dataclass\n",
    "class Node:\n",
    "    state: np.ndarray\n",
    "    cost: int = 0\n",
    "    quality: int = 0\n",
    "\n",
    "def stateInCostList(state: np.ndarray, frontier: list[Node]) -> int:\n",
    "    for i, element in enumerate(frontier):\n",
    "        c = 0\n",
    "        for x in range(PUZZLE_DIM):\n",
    "            for y in range(PUZZLE_DIM):\n",
    "                if state[x][y] == element.state[x][y]:\n",
    "                    c += 1\n",
    "        if c == PUZZLE_DIM**2:\n",
    "            return i\n",
    "    return -1\n",
    "\n",
    "def solutionDistance(state: np.ndarray) -> int:\n",
    "    counter = 0\n",
    "    for x in range(len(state)):\n",
    "        for y in range(len(state)):\n",
    "            c = 1\n",
    "            for i in range(len(state)):\n",
    "                for j in range(len(state)):\n",
    "                    if state[x][y] == c:\n",
    "                        counter += abs(x - i) + abs(y - j)\n",
    "                    c += 1\n",
    "                    if c == len(state)**2:\n",
    "                        c = 0\n",
    "    return counter"
   ]
  },
  {
   "cell_type": "code",
   "execution_count": 63,
   "metadata": {},
   "outputs": [
    {
     "data": {
      "application/vnd.jupyter.widget-view+json": {
       "model_id": "ae28ae00df8f420d9d393e4feae587a0",
       "version_major": 2,
       "version_minor": 0
      },
      "text/plain": [
       "  0%|          | 0/2000 [00:00<?, ?it/s]"
      ]
     },
     "metadata": {},
     "output_type": "display_data"
    },
    {
     "name": "stderr",
     "output_type": "stream",
     "text": [
      "ic| goal_test(state.state): True\n",
      "    state: Node(state=array([[1, 2, 3],\n",
      "                  [4, 5, 6],\n",
      "                  [7, 8, 0]]),\n",
      "                cost=22,\n",
      "                quality=22)\n",
      "    efficiency: 0.017094017094017096\n",
      "    len(frontier): 774\n",
      "    len(visited_state): 1287\n"
     ]
    }
   ],
   "source": [
    "frontier = list()\n",
    "visited_state = list()\n",
    "state = Node(initial_state, 0, 0)\n",
    "for step in tqdm(range(2000)):\n",
    "    visited_state.append(state)\n",
    "    if goal_test(state.state):\n",
    "        break\n",
    "    for a in available_actions(state.state):\n",
    "        new_state = do_action(state.state, a)\n",
    "        if stateInCostList(new_state, visited_state) == -1 and stateInCostList(new_state, frontier) == -1:\n",
    "            frontier.append(Node(new_state, state.quality + 1 + solutionDistance(new_state), state.quality + 1))\n",
    "    frontier.sort(key=lambda i: i.cost, reverse = False)\n",
    "    state = frontier.pop(0)\n",
    "efficiency = state.quality / (step + 1)\n",
    "ic(goal_test(state.state), state, efficiency, len(frontier), len(visited_state))\n",
    "None"
   ]
  },
  {
   "cell_type": "markdown",
   "metadata": {},
   "source": [
    "### sources\n",
    "- prof example\n",
    "- past exercises\n",
    "- slides"
   ]
  }
 ],
 "metadata": {
  "kernelspec": {
   "display_name": "CI2024",
   "language": "python",
   "name": "python3"
  },
  "language_info": {
   "codemirror_mode": {
    "name": "ipython",
    "version": 3
   },
   "file_extension": ".py",
   "mimetype": "text/x-python",
   "name": "python",
   "nbconvert_exporter": "python",
   "pygments_lexer": "ipython3",
   "version": "3.10.4"
  }
 },
 "nbformat": 4,
 "nbformat_minor": 2
}
