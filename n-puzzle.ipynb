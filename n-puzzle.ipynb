{
 "cells": [
  {
   "cell_type": "code",
   "execution_count": 82,
   "metadata": {},
   "outputs": [],
   "source": [
    "import numpy as np\n",
    "from collections import namedtuple\n",
    "from random import choice\n",
    "from tqdm.auto import tqdm\n",
    "from icecream import ic\n",
    "from dataclasses import dataclass"
   ]
  },
  {
   "cell_type": "markdown",
   "metadata": {},
   "source": [
    "## n-puzzle"
   ]
  },
  {
   "cell_type": "code",
   "execution_count": 83,
   "metadata": {},
   "outputs": [],
   "source": [
    "PUZZLE_DIM = 3\n",
    "action = namedtuple('Action', ['pos1', 'pos2'])"
   ]
  },
  {
   "cell_type": "code",
   "execution_count": 84,
   "metadata": {},
   "outputs": [],
   "source": [
    "def available_actions(state: np.ndarray) -> list['Action']:\n",
    "    x, y = [int(_[0]) for _ in np.where(state == 0)]\n",
    "    actions = list()\n",
    "    if x > 0:\n",
    "        actions.append(action((x, y), (x - 1, y)))\n",
    "    if x < PUZZLE_DIM - 1:\n",
    "        actions.append(action((x, y), (x + 1, y)))\n",
    "    if y > 0:\n",
    "        actions.append(action((x, y), (x, y - 1)))\n",
    "    if y < PUZZLE_DIM - 1:\n",
    "        actions.append(action((x, y), (x, y + 1)))\n",
    "    return actions\n",
    "\n",
    "def do_action(state: np.ndarray, action: 'Action') -> np.ndarray:\n",
    "    new_state = state.copy()\n",
    "    new_state[action.pos1], new_state[action.pos2] = new_state[action.pos2], new_state[action.pos1]\n",
    "    return new_state\n",
    "\n",
    "def goal_test(state: np.ndarray) -> bool:\n",
    "    c = 1\n",
    "    for i in state:\n",
    "        for j in i:\n",
    "            if j != c:\n",
    "                return False\n",
    "            c += 1\n",
    "            if c == len(state)**2:\n",
    "                c = 0\n",
    "    return True\n",
    "\n",
    "def stateInList(state: np.ndarray, frontier: list[np.ndarray]) -> int:\n",
    "    for i, element in enumerate(frontier):\n",
    "        c = 0\n",
    "        for x in range(PUZZLE_DIM):\n",
    "            for y in range(PUZZLE_DIM):\n",
    "                if state[x][y] == element[x][y]:\n",
    "                    c += 1\n",
    "        if c == PUZZLE_DIM**2:\n",
    "            return i\n",
    "    return -1\n"
   ]
  },
  {
   "cell_type": "code",
   "execution_count": 91,
   "metadata": {},
   "outputs": [
    {
     "data": {
      "application/vnd.jupyter.widget-view+json": {
       "model_id": "d6029b63a3eb4931a4d2777b5692fe36",
       "version_major": 2,
       "version_minor": 0
      },
      "text/plain": [
       "Randomizing:   0%|          | 0/100000 [00:00<?, ?it/s]"
      ]
     },
     "metadata": {},
     "output_type": "display_data"
    },
    {
     "data": {
      "text/plain": [
       "array([[3, 8, 0],\n",
       "       [4, 7, 1],\n",
       "       [2, 5, 6]])"
      ]
     },
     "execution_count": 91,
     "metadata": {},
     "output_type": "execute_result"
    }
   ],
   "source": [
    "RANDOMIZE_STEPS = 100_000\n",
    "initial_state = np.array([i for i in range(1, PUZZLE_DIM**2)] + [0]).reshape((PUZZLE_DIM, PUZZLE_DIM))\n",
    "for r in tqdm(range(RANDOMIZE_STEPS), desc='Randomizing'):\n",
    "    #scelgo randomicamente un azione da quelle possibili e la effettuo\n",
    "    initial_state = do_action(initial_state, choice(available_actions(initial_state)))\n",
    "initial_state"
   ]
  },
  {
   "cell_type": "markdown",
   "metadata": {},
   "source": [
    "## depth-first approach\n",
    "\n",
    "Memory consumption is high, we can't always find a solution if the number of iterations is too low"
   ]
  },
  {
   "cell_type": "code",
   "execution_count": 88,
   "metadata": {},
   "outputs": [
    {
     "data": {
      "application/vnd.jupyter.widget-view+json": {
       "model_id": "37ed3221ca1746eaacb4e7b04326641c",
       "version_major": 2,
       "version_minor": 0
      },
      "text/plain": [
       "  0%|          | 0/5000 [00:00<?, ?it/s]"
      ]
     },
     "metadata": {},
     "output_type": "display_data"
    },
    {
     "name": "stderr",
     "output_type": "stream",
     "text": [
      "ic| goal_test(state): False\n",
      "    state: array([[7, 5, 1],\n",
      "                  [4, 0, 6],\n",
      "                  [8, 2, 3]])\n",
      "    efficiency: 0.5480964181121875\n"
     ]
    }
   ],
   "source": [
    "frontier = list()\n",
    "visited_state = list()\n",
    "cost_list = list()\n",
    "cost = 0\n",
    "state = initial_state\n",
    "for step in tqdm(range(10000)):\n",
    "    visited_state.append(state)\n",
    "    if goal_test(state):\n",
    "        break\n",
    "    for a in available_actions(state):\n",
    "        new_state = do_action(state, a)\n",
    "        new_cost = cost + 1\n",
    "        if stateInList(new_state, visited_state) == -1 and stateInList(new_state, frontier) == -1:\n",
    "            frontier.append(new_state)\n",
    "            cost_list.append(new_cost)\n",
    "    state = frontier.pop()\n",
    "    cost = cost_list.pop()\n",
    "efficiency = cost / (len(frontier) + len(visited_state))\n",
    "ic(goal_test(state), state, efficiency)\n",
    "None"
   ]
  },
  {
   "cell_type": "markdown",
   "metadata": {},
   "source": [
    "## breadth-first approach\n",
    "\n",
    "Memory consumption is high, we can't always find a solution if the number of iterations is too low"
   ]
  },
  {
   "cell_type": "code",
   "execution_count": null,
   "metadata": {},
   "outputs": [
    {
     "data": {
      "application/vnd.jupyter.widget-view+json": {
       "model_id": "58dc61e189c24a979e091ea6405e4c86",
       "version_major": 2,
       "version_minor": 0
      },
      "text/plain": [
       "  0%|          | 0/10000 [00:00<?, ?it/s]"
      ]
     },
     "metadata": {},
     "output_type": "display_data"
    },
    {
     "name": "stderr",
     "output_type": "stream",
     "text": [
      "ic| goal_test(state): False\n",
      "    state: array([[6, 7, 8],\n",
      "                  [2, 1, 3],\n",
      "                  [0, 4, 5]])\n",
      "    efficiency: 0.0010518703569785024\n"
     ]
    }
   ],
   "source": [
    "frontier = list()\n",
    "visited_state = list()\n",
    "cost_list = list()\n",
    "cost = 0\n",
    "state = initial_state\n",
    "for step in tqdm(range(12000)):\n",
    "    visited_state.append(state)\n",
    "    if goal_test(state):\n",
    "        break\n",
    "    for a in available_actions(state):\n",
    "        new_state = do_action(state, a)\n",
    "        new_cost = cost + 1\n",
    "        if stateInList(new_state, visited_state) == -1 and stateInList(new_state, frontier) == -1:\n",
    "            frontier.append(new_state)\n",
    "            cost_list.append(new_cost)\n",
    "    state = frontier.pop(0)\n",
    "    cost = cost_list.pop(0)\n",
    "efficiency = cost / (len(frontier) + len(visited_state))\n",
    "ic(goal_test(state), state, efficiency)\n",
    "None"
   ]
  },
  {
   "cell_type": "markdown",
   "metadata": {},
   "source": [
    "## A*"
   ]
  },
  {
   "cell_type": "code",
   "execution_count": 89,
   "metadata": {},
   "outputs": [],
   "source": [
    "@dataclass\n",
    "class Node:\n",
    "    state: np.ndarray\n",
    "    cost: int = 0\n",
    "    quality: int = 0\n",
    "\n",
    "def stateInCostList(state: np.ndarray, frontier: list[Node]) -> int:\n",
    "    for i, element in enumerate(frontier):\n",
    "        c = 0\n",
    "        for x in range(PUZZLE_DIM):\n",
    "            for y in range(PUZZLE_DIM):\n",
    "                if state[x][y] == element.state[x][y]:\n",
    "                    c += 1\n",
    "        if c == PUZZLE_DIM**2:\n",
    "            return i\n",
    "    return -1\n",
    "\n",
    "def solutionDistance(state: np.ndarray) -> int:\n",
    "    counter = 0\n",
    "    for x in range(len(state)):\n",
    "        for y in range(len(state)):\n",
    "            c = 1\n",
    "            for i in range(len(state)):\n",
    "                for j in range(len(state)):\n",
    "                    if state[x][y] == c:\n",
    "                        counter += abs(x - i) + abs(y - j)\n",
    "                    c += 1\n",
    "                    if c == len(state)**2:\n",
    "                        c = 0\n",
    "    return counter"
   ]
  },
  {
   "cell_type": "code",
   "execution_count": 92,
   "metadata": {},
   "outputs": [
    {
     "data": {
      "application/vnd.jupyter.widget-view+json": {
       "model_id": "da4f241c90cc4b5ca801121508dec049",
       "version_major": 2,
       "version_minor": 0
      },
      "text/plain": [
       "  0%|          | 0/10000 [00:00<?, ?it/s]"
      ]
     },
     "metadata": {},
     "output_type": "display_data"
    },
    {
     "name": "stderr",
     "output_type": "stream",
     "text": [
      "ic| goal_test(state.state): True\n",
      "    state: Node(state=array([[1, 2, 3],\n",
      "                  [4, 5, 6],\n",
      "                  [7, 8, 0]]),\n",
      "                cost=24,\n",
      "                quality=24)\n",
      "    efficiency: 1.172812725958062\n"
     ]
    }
   ],
   "source": [
    "frontier = list()\n",
    "visited_state = list()\n",
    "state = Node(initial_state, 0, 0)\n",
    "for step in tqdm(range(10000)):\n",
    "    visited_state.append(state)\n",
    "    if goal_test(state.state):\n",
    "        break\n",
    "    for a in available_actions(state.state):\n",
    "        new_state = do_action(state.state, a)\n",
    "        if stateInCostList(new_state, visited_state) == -1 and stateInCostList(new_state, frontier) == -1:\n",
    "            frontier.append(Node(new_state, state.quality + 1 + solutionDistance(new_state), state.quality + 1))\n",
    "    frontier.sort(key=lambda i: i.cost, reverse = False)\n",
    "    state = frontier.pop(0)\n",
    "efficiency = cost / (len(frontier) + len(visited_state))\n",
    "ic(goal_test(state.state), state, efficiency)\n",
    "None"
   ]
  },
  {
   "cell_type": "markdown",
   "metadata": {},
   "source": [
    "### sources\n",
    "- prof example\n",
    "- past exercises\n",
    "- slides"
   ]
  }
 ],
 "metadata": {
  "kernelspec": {
   "display_name": "CI2024",
   "language": "python",
   "name": "python3"
  },
  "language_info": {
   "codemirror_mode": {
    "name": "ipython",
    "version": 3
   },
   "file_extension": ".py",
   "mimetype": "text/x-python",
   "name": "python",
   "nbconvert_exporter": "python",
   "pygments_lexer": "ipython3",
   "version": "3.10.4"
  }
 },
 "nbformat": 4,
 "nbformat_minor": 2
}
