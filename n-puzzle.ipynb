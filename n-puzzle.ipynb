{
 "cells": [
  {
   "cell_type": "code",
   "execution_count": 67,
   "metadata": {},
   "outputs": [],
   "source": [
    "import numpy as np\n",
    "from collections import namedtuple\n",
    "from random import choice\n",
    "from tqdm.auto import tqdm\n",
    "from icecream import ic\n",
    "from dataclasses import dataclass"
   ]
  },
  {
   "cell_type": "markdown",
   "metadata": {},
   "source": [
    "## n-puzzle"
   ]
  },
  {
   "cell_type": "code",
   "execution_count": 68,
   "metadata": {},
   "outputs": [],
   "source": [
    "PUZZLE_DIM = 3\n",
    "action = namedtuple('Action', ['pos1', 'pos2'])"
   ]
  },
  {
   "cell_type": "code",
   "execution_count": 69,
   "metadata": {},
   "outputs": [],
   "source": [
    "def available_actions(state: np.ndarray) -> list['Action']:\n",
    "    x, y = [int(_[0]) for _ in np.where(state == 0)]\n",
    "    actions = list()\n",
    "    if x > 0:\n",
    "        actions.append(action((x, y), (x - 1, y)))\n",
    "    if x < PUZZLE_DIM - 1:\n",
    "        actions.append(action((x, y), (x + 1, y)))\n",
    "    if y > 0:\n",
    "        actions.append(action((x, y), (x, y - 1)))\n",
    "    if y < PUZZLE_DIM - 1:\n",
    "        actions.append(action((x, y), (x, y + 1)))\n",
    "    return actions\n",
    "\n",
    "def do_action(state: np.ndarray, action: 'Action') -> np.ndarray:\n",
    "    new_state = state.copy()\n",
    "    new_state[action.pos1], new_state[action.pos2] = new_state[action.pos2], new_state[action.pos1]\n",
    "    return new_state\n",
    "\n",
    "def goal_test(state: np.ndarray) -> bool:\n",
    "    c = 1\n",
    "    for i in state:\n",
    "        for j in i:\n",
    "            if j != c:\n",
    "                return False\n",
    "            c += 1\n",
    "            if c == len(state)**2:\n",
    "                c = 0\n",
    "    return True\n",
    "\n",
    "def stateInList(state: np.ndarray, frontier: list[np.ndarray]) -> int:\n",
    "    for i, element in enumerate(frontier):\n",
    "        c = 0\n",
    "        for x in range(PUZZLE_DIM):\n",
    "            for y in range(PUZZLE_DIM):\n",
    "                if state[x][y] == element[x][y]:\n",
    "                    c += 1\n",
    "        if c == PUZZLE_DIM**2:\n",
    "            return i\n",
    "    return -1\n"
   ]
  },
  {
   "cell_type": "code",
   "execution_count": 70,
   "metadata": {},
   "outputs": [
    {
     "data": {
      "application/vnd.jupyter.widget-view+json": {
       "model_id": "3268d01d3ec84818afe2ea29e35a405f",
       "version_major": 2,
       "version_minor": 0
      },
      "text/plain": [
       "Randomizing:   0%|          | 0/100000 [00:00<?, ?it/s]"
      ]
     },
     "metadata": {},
     "output_type": "display_data"
    },
    {
     "data": {
      "text/plain": [
       "array([[2, 8, 3],\n",
       "       [6, 0, 7],\n",
       "       [5, 1, 4]])"
      ]
     },
     "execution_count": 70,
     "metadata": {},
     "output_type": "execute_result"
    }
   ],
   "source": [
    "RANDOMIZE_STEPS = 100_000\n",
    "initial_state = np.array([i for i in range(1, PUZZLE_DIM**2)] + [0]).reshape((PUZZLE_DIM, PUZZLE_DIM))\n",
    "for r in tqdm(range(RANDOMIZE_STEPS), desc='Randomizing'):\n",
    "    #scelgo randomicamente un azione da quelle possibili e la effettuo\n",
    "    initial_state = do_action(initial_state, choice(available_actions(initial_state)))\n",
    "initial_state"
   ]
  },
  {
   "cell_type": "markdown",
   "metadata": {},
   "source": [
    "## depth-first approach\n",
    "\n",
    "Memory consumption is high, we can't always find a solution if the number of iterations is too low"
   ]
  },
  {
   "cell_type": "code",
   "execution_count": 71,
   "metadata": {},
   "outputs": [
    {
     "data": {
      "application/vnd.jupyter.widget-view+json": {
       "model_id": "070f0ffb2cfc4ec9b133f0f7435c6806",
       "version_major": 2,
       "version_minor": 0
      },
      "text/plain": [
       "  0%|          | 0/1000 [00:00<?, ?it/s]"
      ]
     },
     "metadata": {},
     "output_type": "display_data"
    },
    {
     "name": "stderr",
     "output_type": "stream",
     "text": [
      "ic| goal_test(state): False\n",
      "    state: array([[2, 8, 6],\n",
      "                  [7, 1, 4],\n",
      "                  [3, 5, 0]])\n",
      "    efficiency: 0.5457608085345311\n"
     ]
    }
   ],
   "source": [
    "frontier = list()\n",
    "visited_state = list()\n",
    "cost_list = list()\n",
    "cost = 0\n",
    "state = initial_state\n",
    "for step in tqdm(range(1000)):\n",
    "    visited_state.append(state)\n",
    "    if goal_test(state):\n",
    "        break\n",
    "    for a in available_actions(state):\n",
    "        new_state = do_action(state, a)\n",
    "        new_cost = cost + 1\n",
    "        if stateInList(new_state, visited_state) == -1 and stateInList(new_state, frontier) == -1:\n",
    "            frontier.append(new_state)\n",
    "            cost_list.append(new_cost)\n",
    "    state = frontier.pop()\n",
    "    cost = cost_list.pop()\n",
    "efficiency = cost / (len(frontier) + len(visited_state))\n",
    "ic(goal_test(state), state, efficiency)\n",
    "None"
   ]
  },
  {
   "cell_type": "markdown",
   "metadata": {},
   "source": [
    "## breadth-first approach\n",
    "\n",
    "Memory consumption is high, we can't always find a solution if the number of iterations is too low"
   ]
  },
  {
   "cell_type": "code",
   "execution_count": 72,
   "metadata": {},
   "outputs": [
    {
     "data": {
      "application/vnd.jupyter.widget-view+json": {
       "model_id": "8f4c5ccf340546fdbe15890b34af4163",
       "version_major": 2,
       "version_minor": 0
      },
      "text/plain": [
       "  0%|          | 0/1000 [00:00<?, ?it/s]"
      ]
     },
     "metadata": {},
     "output_type": "display_data"
    },
    {
     "name": "stderr",
     "output_type": "stream",
     "text": [
      "ic| goal_test(state): False\n",
      "    state: array([[3, 8, 7],\n",
      "                  [2, 5, 4],\n",
      "                  [6, 0, 1]])\n",
      "    efficiency: 0.0069356872635561164\n"
     ]
    }
   ],
   "source": [
    "frontier = list()\n",
    "visited_state = list()\n",
    "cost_list = list()\n",
    "cost = 0\n",
    "state = initial_state\n",
    "for step in tqdm(range(1000)):\n",
    "    visited_state.append(state)\n",
    "    if goal_test(state):\n",
    "        break\n",
    "    for a in available_actions(state):\n",
    "        new_state = do_action(state, a)\n",
    "        new_cost = cost + 1\n",
    "        if stateInList(new_state, visited_state) == -1 and stateInList(new_state, frontier) == -1:\n",
    "            frontier.append(new_state)\n",
    "            cost_list.append(new_cost)\n",
    "    state = frontier.pop(0)\n",
    "    cost = cost_list.pop(0)\n",
    "efficiency = cost / (len(frontier) + len(visited_state))\n",
    "ic(goal_test(state), state, efficiency)\n",
    "None"
   ]
  },
  {
   "cell_type": "markdown",
   "metadata": {},
   "source": [
    "## A*"
   ]
  },
  {
   "cell_type": "code",
   "execution_count": 73,
   "metadata": {},
   "outputs": [],
   "source": [
    "@dataclass\n",
    "class Node:\n",
    "    state: np.ndarray\n",
    "    cost: int = 0\n",
    "    quality: int = 0\n",
    "\n",
    "def stateInNodeList(state: np.ndarray, frontier: list[Node]) -> int:\n",
    "    for i, element in enumerate(frontier):\n",
    "        c = 0\n",
    "        for x in range(PUZZLE_DIM):\n",
    "            for y in range(PUZZLE_DIM):\n",
    "                if state[x][y] == element.state[x][y]:\n",
    "                    c += 1\n",
    "        if c == PUZZLE_DIM**2:\n",
    "            return i\n",
    "    return -1\n",
    "\n",
    "def HammingDistance(state: np.ndarray) -> int:\n",
    "    counter = 0\n",
    "    c = 1\n",
    "    for x in range(0, PUZZLE_DIM):\n",
    "        for y in range(0, PUZZLE_DIM):\n",
    "            if state[x][y] != c:\n",
    "                counter += 1\n",
    "            c += 1\n",
    "            if c == PUZZLE_DIM**2:\n",
    "                break\n",
    "    return counter\n",
    "\n",
    "def ManhattanDistance(state: np.ndarray) -> int:\n",
    "    counter = 0\n",
    "    c = 1\n",
    "    for x in range(0, PUZZLE_DIM):\n",
    "        for y in range(0, PUZZLE_DIM):\n",
    "            if state[x][y] != c and state[x][y] != 0:\n",
    "                counter += abs(x - ((state[x][y] - 1) // PUZZLE_DIM)) + abs(y - ((state[x][y] - 1) % PUZZLE_DIM))\n",
    "            c += 1\n",
    "    return counter\n",
    "\n",
    "def LinearConflict(state: np.ndarray) -> int:\n",
    "        conflict = 0\n",
    "        size = len(state)\n",
    "        # Row conflicts\n",
    "        for row in range(size):\n",
    "            max_val = -1\n",
    "            for col in range(size):\n",
    "                value = state[row][col]\n",
    "                if value != 0 and (value - 1) // size == row:\n",
    "                    if value > max_val:\n",
    "                        max_val = value\n",
    "                    else:\n",
    "                        conflict += 2\n",
    "        # Column conflicts\n",
    "        for col in range(size):\n",
    "            max_val = -1\n",
    "            for row in range(size):\n",
    "                value = state[row][col]\n",
    "                if value != 0 and (value - 1) % size == col:\n",
    "                    if value > max_val:\n",
    "                        max_val = value\n",
    "                    else:\n",
    "                        conflict += 2\n",
    "        return conflict"
   ]
  },
  {
   "cell_type": "code",
   "execution_count": 74,
   "metadata": {},
   "outputs": [
    {
     "data": {
      "application/vnd.jupyter.widget-view+json": {
       "model_id": "e52c80a741de4f90b0b6e0a03a5c43ce",
       "version_major": 2,
       "version_minor": 0
      },
      "text/plain": [
       "  0%|          | 0/10000 [00:00<?, ?it/s]"
      ]
     },
     "metadata": {},
     "output_type": "display_data"
    },
    {
     "name": "stderr",
     "output_type": "stream",
     "text": [
      "ic| initial_state: array([[2, 8, 3],\n",
      "                          [6, 0, 7],\n",
      "                          [5, 1, 4]])\n",
      "    ManhattanDistance(initial_state) + LinearConflict(initial_state): np.int64(16)\n",
      "    goal_test(state.state): True\n",
      "    state: Node(state=array([[1, 2, 3],\n",
      "                  [4, 5, 6],\n",
      "                  [7, 8, 0]]),\n",
      "                cost=20,\n",
      "                quality=20)\n",
      "    efficiency: 0.06042296072507553\n"
     ]
    }
   ],
   "source": [
    "frontier = list()\n",
    "visited_state = list()\n",
    "state = Node(initial_state, 1 + ManhattanDistance(initial_state) + LinearConflict(initial_state), 0)\n",
    "for step in tqdm(range(10000)):\n",
    "    visited_state.append(state)\n",
    "    if state.cost == state.quality:\n",
    "        break\n",
    "    for a in available_actions(state.state):\n",
    "        new_state = do_action(state.state, a)\n",
    "        if stateInNodeList(new_state, visited_state) == -1 and stateInNodeList(new_state, frontier) == -1:\n",
    "            frontier.append(Node(new_state, state.quality + 1 + ManhattanDistance(new_state) + LinearConflict(new_state), state.quality + 1))\n",
    "    frontier.sort(key=lambda i: i.cost, reverse = False)\n",
    "    state = frontier.pop(0)\n",
    "efficiency = state.cost / (len(frontier) + len(visited_state))\n",
    "ic(initial_state, ManhattanDistance(initial_state) + LinearConflict(initial_state), goal_test(state.state), state, efficiency)\n",
    "None"
   ]
  },
  {
   "cell_type": "markdown",
   "metadata": {},
   "source": [
    "## IDA*"
   ]
  },
  {
   "cell_type": "code",
   "execution_count": 75,
   "metadata": {},
   "outputs": [],
   "source": [
    "def stateInList(state: np.ndarray, frontier: list) -> int:\n",
    "    for i, element in enumerate(frontier):\n",
    "        c = 0\n",
    "        for x in range(PUZZLE_DIM):\n",
    "            for y in range(PUZZLE_DIM):\n",
    "                if state[x][y] == element[x][y]:\n",
    "                    c += 1\n",
    "        if c == PUZZLE_DIM**2:\n",
    "            return i\n",
    "    return -1\n",
    "\n",
    "def search(path, g, bound, dirs):\n",
    "    state = path[-1]\n",
    "    f = g + ManhattanDistance(state) + LinearConflict(state)\n",
    "    if f > bound:\n",
    "        return f\n",
    "    if goal_test(state):\n",
    "        return True\n",
    "    min = np.inf\n",
    "    for a in available_actions(state):\n",
    "        new_state = do_action(state, a)\n",
    "        if stateInList(new_state, path) == -1:\n",
    "            path.append(new_state)\n",
    "            dirs.append(a)\n",
    "            tmp = search(path, g+1, bound, dirs)\n",
    "            if tmp == True:\n",
    "                return True\n",
    "            if tmp < min:\n",
    "                min = tmp\n",
    "            path.pop()\n",
    "            dirs.pop()\n",
    "    return min\n"
   ]
  },
  {
   "cell_type": "code",
   "execution_count": 76,
   "metadata": {},
   "outputs": [
    {
     "name": "stderr",
     "output_type": "stream",
     "text": [
      "ic| initial_state: array([[2, 8, 3],\n",
      "                          [6, 0, 7],\n",
      "                          [5, 1, 4]])\n",
      "    h: np.int64(16)\n",
      "ic| True\n",
      "ic| state: array([[1, 2, 3],\n",
      "                  [4, 5, 6],\n",
      "                  [7, 8, 0]])\n",
      "    quality: 20\n"
     ]
    }
   ],
   "source": [
    "h = ManhattanDistance(initial_state) + LinearConflict(initial_state)\n",
    "bound = h\n",
    "path = [initial_state]\n",
    "dirs = list()\n",
    "ic(initial_state, h)\n",
    "while True:\n",
    "    rem = search(path, 0, bound, dirs)\n",
    "    if rem == True:\n",
    "        ic(True)\n",
    "        break\n",
    "    elif rem > 100:   \n",
    "        ic(False)\n",
    "        break\n",
    "    bound = rem\n",
    "state = initial_state\n",
    "for a in dirs:\n",
    "    state = do_action(state, a)\n",
    "quality =  len(dirs)\n",
    "ic(state, quality)\n",
    "None"
   ]
  },
  {
   "cell_type": "markdown",
   "metadata": {},
   "source": [
    "### sources\n",
    "- prof example\n",
    "- past exercises\n",
    "- slides\n",
    "- forum on internet"
   ]
  }
 ],
 "metadata": {
  "kernelspec": {
   "display_name": "CI2024",
   "language": "python",
   "name": "python3"
  },
  "language_info": {
   "codemirror_mode": {
    "name": "ipython",
    "version": 3
   },
   "file_extension": ".py",
   "mimetype": "text/x-python",
   "name": "python",
   "nbconvert_exporter": "python",
   "pygments_lexer": "ipython3",
   "version": "3.10.4"
  }
 },
 "nbformat": 4,
 "nbformat_minor": 2
}
